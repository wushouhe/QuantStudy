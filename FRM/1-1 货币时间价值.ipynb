{
 "cells": [
  {
   "cell_type": "code",
   "execution_count": 2,
   "metadata": {},
   "outputs": [],
   "source": [
    "import numpy as np\n",
    "import numpy_financial as npf\n",
    "import pandas as pd\n",
    "import matplotlib.pyplot as plt"
   ]
  },
  {
   "attachments": {},
   "cell_type": "markdown",
   "metadata": {},
   "source": [
    "### 货币时间价值\n",
    "计算未来价值的函数numpy.fv():\n",
    "\n",
    "npf.fv(rate, nper, pmt, pv) \n",
    "\n",
    "fv是 future value 的缩写, 参数定义如下：\n",
    "- rate：投资的回报率。\n",
    "- nper：投资的时间。\n",
    "- pmt：定期的支付，在这里的计算中是0。\n",
    "- pv：投资的现值，即当前的价值。注意这里它是一个负数值，表示现金的流出。"
   ]
  },
  {
   "cell_type": "code",
   "execution_count": 23,
   "metadata": {},
   "outputs": [
    {
     "data": {
      "text/plain": [
       "14176.9"
      ]
     },
     "execution_count": 23,
     "metadata": {},
     "output_type": "execute_result"
    }
   ],
   "source": [
    "future_value = npf.fv(rate=0.1, nper=4, pmt=100, pv=-10000)\n",
    "round(future_value, 2) # type: ignore"
   ]
  },
  {
   "attachments": {},
   "cell_type": "markdown",
   "metadata": {},
   "source": [
    "现值（Present Value）\n",
    "\n",
    "numpy.pv(rate, nper, pmt, fv，when='start/end’)\n",
    "\n",
    "#参数：\n",
    "- rate：投资的回报率。\n",
    "- nper：投资的时间。\n",
    "- pmt：定期的支付。\n",
    "- fv：投资的未来价值。\n",
    "- when='start'：每年年初支付\n",
    "\n",
    "6年分期付款购物，每年初付200元，设银行利率为10%，该项分期付款相当于一次现金支付的购价是多少？\n"
   ]
  },
  {
   "cell_type": "code",
   "execution_count": 38,
   "metadata": {},
   "outputs": [
    {
     "name": "stdout",
     "output_type": "stream",
     "text": [
      "958.16\n"
     ]
    }
   ],
   "source": [
    "present_value = npf.pv(rate=0.1, nper=6, pmt=-200, fv=0,when='start')\n",
    "print(round(present_value,2))"
   ]
  },
  {
   "attachments": {},
   "cell_type": "markdown",
   "metadata": {},
   "source": [
    "\n",
    "pmt函数——根据本金/未来支出额和利率计算每期需支付的金额\n",
    "\n",
    "numpy.pmt(rate, nper, pv[, fv=0, when='end’])\n",
    "\n",
    "#参数：\n",
    "- rate：每一期的利率（rate of interest） \n",
    "- nper：期数 \n",
    "- pv：present value，现值\n",
    "- fv：终值\n",
    "- when='end'：每年年末支付\n",
    "\n",
    "拟在5年后还清10000元债务，从现在起每年末等额存入银行一笔款项。假设银行存款利率为10%，每年需要存入多少元?"
   ]
  },
  {
   "cell_type": "code",
   "execution_count": 44,
   "metadata": {},
   "outputs": [
    {
     "data": {
      "text/plain": [
       "-2746.5"
      ]
     },
     "execution_count": 44,
     "metadata": {},
     "output_type": "execute_result"
    }
   ],
   "source": [
    "pmt1 = npf.pmt(0.1, 3, pv=0, fv=10000, when=\"begin\")\n",
    "round(pmt1, 2)  # type: ignore\n"
   ]
  },
  {
   "attachments": {},
   "cell_type": "markdown",
   "metadata": {},
   "source": [
    "假设以10%的利率借款20000元，投资于某个寿命为10年的项目，每年至少要收回多少现金才是有利的？"
   ]
  },
  {
   "cell_type": "code",
   "execution_count": 42,
   "metadata": {},
   "outputs": [
    {
     "name": "stdout",
     "output_type": "stream",
     "text": [
      "3254.91\n"
     ]
    }
   ],
   "source": [
    "pmt2 = npf.pmt(0.1, 10, pv=-20000, fv=0, when=\"end\")\n",
    "print(round(pmt2, 2))  # type: ignore # 近似到小数点后2位\n"
   ]
  }
 ],
 "metadata": {
  "kernelspec": {
   "display_name": "QuantStudy-FzCNnXIW",
   "language": "python",
   "name": "python3"
  },
  "language_info": {
   "codemirror_mode": {
    "name": "ipython",
    "version": 3
   },
   "file_extension": ".py",
   "mimetype": "text/x-python",
   "name": "python",
   "nbconvert_exporter": "python",
   "pygments_lexer": "ipython3",
   "version": "3.10.8"
  },
  "orig_nbformat": 4,
  "vscode": {
   "interpreter": {
    "hash": "76dcfe8ba13664d2abb9bb7432de9389071caea9bd74c710371ec077e297455f"
   }
  }
 },
 "nbformat": 4,
 "nbformat_minor": 2
}
