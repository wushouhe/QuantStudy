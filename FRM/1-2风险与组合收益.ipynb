{
 "cells": [
  {
   "cell_type": "code",
   "execution_count": 8,
   "metadata": {},
   "outputs": [],
   "source": [
    "import numpy as np\n",
    "import numpy_financial as npf\n",
    "import pandas as pd\n",
    "import matplotlib.pyplot as plt"
   ]
  },
  {
   "attachments": {},
   "cell_type": "markdown",
   "metadata": {},
   "source": [
    "标准差衡量投资项目的绝对风险，标准差越大，绝对风险越大。只适用于预期值相同项目的风险程度比较。标准差衡量的是全部风险，既包括系统性风险，也包括非系统性风险。"
   ]
  },
  {
   "cell_type": "code",
   "execution_count": 34,
   "metadata": {},
   "outputs": [
    {
     "name": "stdout",
     "output_type": "stream",
     "text": [
      "0.15000000000000002\n",
      "0.15\n",
      "0.5809475019311126\n",
      "0.03872983346207417\n"
     ]
    }
   ],
   "source": [
    "A = [0.9, 0.15, -0.6]\n",
    "B = [0.2, 0.15, 0.1]\n",
    "P = [0.3, 0.4, 0.3]\n",
    "r_A = np.dot(A, P)  # A项目期望报酬率预期值\n",
    "r_B = np.dot(B, P)  # B项目期望报酬率预期值\n",
    "sd_A = np.sqrt(np.dot(P, (A - r_A) ** 2))  # A项目期望报酬率的标准差\n",
    "sd_B = np.sqrt(np.dot(P, (B - r_B) ** 2))  # B项目期望报酬率的标准差\n",
    "print(r_A, r_B, sd_A, sd_B, sep=\"\\n\")\n"
   ]
  },
  {
   "attachments": {},
   "cell_type": "markdown",
   "metadata": {},
   "source": [
    "（三）变异系数\n",
    "\n",
    "（1）是标准差与均值的之比，它从相对角度观察差异和离散程度的统计量指标。\n",
    "\n",
    "（2）变异系数=标准差/均值\n",
    "\n",
    "（3）变异系数衡量投资项目相对风险，变异系数越大，相对风险越大。变异系数指标的适用范围较广，尤其适用于预期值不同的项目风险程度比较。"
   ]
  },
  {
   "cell_type": "code",
   "execution_count": 36,
   "metadata": {},
   "outputs": [
    {
     "name": "stdout",
     "output_type": "stream",
     "text": [
      "0.3590621392387546\n",
      "0.37369100927664983\n"
     ]
    }
   ],
   "source": [
    "A = [0.26, 0.11, 0.15, 0.27, 0.21, 0.32]\n",
    "B = [0.13, 0.21, 0.27, 0.41, 0.22, 0.32]\n",
    "mean_A = np.mean(A)  # A股票平均收益率\n",
    "mean_B = np.mean(B)  # B股票平均收益率\n",
    "sd_A = np.std(A, ddof=1)  # A股票标准差\n",
    "sd_B = np.std(B, ddof=1)  # B股票标准差\n",
    "cv_A = sd_A / mean_A  # A股票变异系数\n",
    "cv_B = sd_B / mean_B  # B股票变异系数\n",
    "\n",
    "print(cv_A, cv_B, sep=\"\\n\")\n"
   ]
  },
  {
   "cell_type": "markdown",
   "metadata": {},
   "source": [
    "协方差"
   ]
  },
  {
   "cell_type": "code",
   "execution_count": 49,
   "metadata": {},
   "outputs": [
    {
     "name": "stdout",
     "output_type": "stream",
     "text": [
      "[0.22, 0.26, 0.2783333333333333]\n",
      "0.2495\n",
      "[[0.00624    0.0027     0.00122   ]\n",
      " [0.0027     0.00944    0.01378   ]\n",
      " [0.00122    0.01378    0.03601667]]\n",
      "0.09225345521984529\n"
     ]
    }
   ],
   "source": [
    "A = [0.26, 0.11, 0.15, 0.27, 0.21, 0.32]\n",
    "B = [0.13, 0.21, 0.27, 0.41, 0.22, 0.32]\n",
    "C = [0.03, 0.1, 0.53, 0.41, 0.25, 0.35]\n",
    "mean_C = np.mean(C)\n",
    "W = [0.4, 0.3, 0.3]\n",
    "R_mean = [mean_A, mean_B, mean_C]  # A,B股票各自平均收益率\n",
    "R_port = np.dot(W, R_mean)  # A,B股票按比例投资后平均收益率\n",
    "R = np.vstack((A, B, C))\n",
    "R_cov = np.cov(R)  # A,B股票的协方差\n",
    "vol_port = np.sqrt(np.dot(W, np.dot(R_cov, W)))  # A,B股票组合的标准差\n",
    "\n",
    "print(R_mean, R_port, R_cov, vol_port, sep=\"\\n\")\n"
   ]
  },
  {
   "cell_type": "code",
   "execution_count": null,
   "metadata": {},
   "outputs": [],
   "source": []
  },
  {
   "cell_type": "code",
   "execution_count": null,
   "metadata": {},
   "outputs": [],
   "source": []
  },
  {
   "cell_type": "code",
   "execution_count": null,
   "metadata": {},
   "outputs": [],
   "source": []
  },
  {
   "cell_type": "code",
   "execution_count": null,
   "metadata": {},
   "outputs": [],
   "source": []
  },
  {
   "cell_type": "code",
   "execution_count": 5,
   "metadata": {},
   "outputs": [
    {
     "data": {
      "text/plain": [
       "0.03872983346207417"
      ]
     },
     "execution_count": 5,
     "metadata": {},
     "output_type": "execute_result"
    }
   ],
   "source": []
  },
  {
   "cell_type": "code",
   "execution_count": null,
   "metadata": {},
   "outputs": [],
   "source": []
  }
 ],
 "metadata": {
  "kernelspec": {
   "display_name": "QuantStudy-FzCNnXIW",
   "language": "python",
   "name": "python3"
  },
  "language_info": {
   "codemirror_mode": {
    "name": "ipython",
    "version": 3
   },
   "file_extension": ".py",
   "mimetype": "text/x-python",
   "name": "python",
   "nbconvert_exporter": "python",
   "pygments_lexer": "ipython3",
   "version": "3.10.8"
  },
  "orig_nbformat": 4,
  "vscode": {
   "interpreter": {
    "hash": "76dcfe8ba13664d2abb9bb7432de9389071caea9bd74c710371ec077e297455f"
   }
  }
 },
 "nbformat": 4,
 "nbformat_minor": 2
}
