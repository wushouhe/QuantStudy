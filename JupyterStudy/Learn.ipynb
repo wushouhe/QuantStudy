{
 "cells": [
  {
   "cell_type": "markdown",
   "metadata": {},
   "source": []
  },
  {
   "cell_type": "markdown",
   "metadata": {},
   "source": [
    "第一课\n"
   ]
  },
  {
   "cell_type": "code",
   "execution_count": 1,
   "metadata": {},
   "outputs": [],
   "source": [
    "import numpy as np\n",
    "import pandas as pd\n",
    "import matplotlib.pyplot as plt\n",
    "from datetime import timedelta, date\n",
    "import math"
   ]
  },
  {
   "cell_type": "code",
   "execution_count": 7,
   "metadata": {},
   "outputs": [
    {
     "data": {
      "text/html": [
       "<div>\n",
       "<style scoped>\n",
       "    .dataframe tbody tr th:only-of-type {\n",
       "        vertical-align: middle;\n",
       "    }\n",
       "\n",
       "    .dataframe tbody tr th {\n",
       "        vertical-align: top;\n",
       "    }\n",
       "\n",
       "    .dataframe thead th {\n",
       "        text-align: right;\n",
       "    }\n",
       "</style>\n",
       "<table border=\"1\" class=\"dataframe\">\n",
       "  <thead>\n",
       "    <tr style=\"text-align: right;\">\n",
       "      <th></th>\n",
       "      <th>A</th>\n",
       "      <th>x</th>\n",
       "      <th>y</th>\n",
       "      <th>C</th>\n",
       "      <th>D</th>\n",
       "    </tr>\n",
       "  </thead>\n",
       "  <tbody>\n",
       "    <tr>\n",
       "      <th>0</th>\n",
       "      <td>2016-01-01</td>\n",
       "      <td>0.0</td>\n",
       "      <td>0.977868</td>\n",
       "      <td>Medium</td>\n",
       "      <td>107.370998</td>\n",
       "    </tr>\n",
       "    <tr>\n",
       "      <th>1</th>\n",
       "      <td>2016-01-02</td>\n",
       "      <td>1.0</td>\n",
       "      <td>0.494450</td>\n",
       "      <td>High</td>\n",
       "      <td>94.416366</td>\n",
       "    </tr>\n",
       "    <tr>\n",
       "      <th>2</th>\n",
       "      <td>2016-01-03</td>\n",
       "      <td>2.0</td>\n",
       "      <td>0.397129</td>\n",
       "      <td>High</td>\n",
       "      <td>108.574254</td>\n",
       "    </tr>\n",
       "    <tr>\n",
       "      <th>3</th>\n",
       "      <td>2016-01-04</td>\n",
       "      <td>3.0</td>\n",
       "      <td>0.583244</td>\n",
       "      <td>Low</td>\n",
       "      <td>96.365544</td>\n",
       "    </tr>\n",
       "    <tr>\n",
       "      <th>4</th>\n",
       "      <td>2016-01-05</td>\n",
       "      <td>4.0</td>\n",
       "      <td>0.565703</td>\n",
       "      <td>Low</td>\n",
       "      <td>115.345973</td>\n",
       "    </tr>\n",
       "  </tbody>\n",
       "</table>\n",
       "</div>"
      ],
      "text/plain": [
       "           A    x         y       C           D\n",
       "0 2016-01-01  0.0  0.977868  Medium  107.370998\n",
       "1 2016-01-02  1.0  0.494450    High   94.416366\n",
       "2 2016-01-03  2.0  0.397129    High  108.574254\n",
       "3 2016-01-04  3.0  0.583244     Low   96.365544\n",
       "4 2016-01-05  4.0  0.565703     Low  115.345973"
      ]
     },
     "execution_count": 7,
     "metadata": {},
     "output_type": "execute_result"
    }
   ],
   "source": [
    "N=5\n",
    "\n",
    "df = pd.DataFrame({\n",
    "    'A': pd.date_range(start='2016-01-01',periods=N,freq='D'),\n",
    "    'x': np.linspace(0,stop=N-1,num=N),\n",
    "    'y': np.random.rand(N),\n",
    "    'C': np.random.choice(['Low','Medium','High'],N).tolist(),\n",
    "    'D': np.random.normal(100, 10, size=(N)).tolist()\n",
    "    })\n",
    "df\n"
   ]
  },
  {
   "cell_type": "code",
   "execution_count": 8,
   "metadata": {},
   "outputs": [
    {
     "name": "stdout",
     "output_type": "stream",
     "text": [
      "A\n",
      "x\n",
      "y\n",
      "C\n",
      "D\n"
     ]
    }
   ],
   "source": [
    "for col in df:\n",
    "   print (col)"
   ]
  },
  {
   "cell_type": "code",
   "execution_count": 13,
   "metadata": {},
   "outputs": [
    {
     "data": {
      "text/plain": [
       "('D',\n",
       " 0    107.370998\n",
       " 1     94.416366\n",
       " 2    108.574254\n",
       " 3     96.365544\n",
       " 4    115.345973\n",
       " Name: D, dtype: float64)"
      ]
     },
     "execution_count": 13,
     "metadata": {},
     "output_type": "execute_result"
    }
   ],
   "source": [
    "for key,value in df.items():\n",
    "   print(key,value)\n",
    "\n"
   ]
  },
  {
   "cell_type": "code",
   "execution_count": 14,
   "metadata": {},
   "outputs": [
    {
     "name": "stdout",
     "output_type": "stream",
     "text": [
      "0 A    2016-01-01 00:00:00\n",
      "x                    0.0\n",
      "y               0.977868\n",
      "C                 Medium\n",
      "D             107.370998\n",
      "Name: 0, dtype: object\n",
      "1 A    2016-01-02 00:00:00\n",
      "x                    1.0\n",
      "y                0.49445\n",
      "C                   High\n",
      "D              94.416366\n",
      "Name: 1, dtype: object\n",
      "2 A    2016-01-03 00:00:00\n",
      "x                    2.0\n",
      "y               0.397129\n",
      "C                   High\n",
      "D             108.574254\n",
      "Name: 2, dtype: object\n",
      "3 A    2016-01-04 00:00:00\n",
      "x                    3.0\n",
      "y               0.583244\n",
      "C                    Low\n",
      "D              96.365544\n",
      "Name: 3, dtype: object\n",
      "4 A    2016-01-05 00:00:00\n",
      "x                    4.0\n",
      "y               0.565703\n",
      "C                    Low\n",
      "D             115.345973\n",
      "Name: 4, dtype: object\n"
     ]
    }
   ],
   "source": [
    "for row_index,row in df.iterrows():\n",
    "   print(row_index,row)"
   ]
  },
  {
   "cell_type": "code",
   "execution_count": 15,
   "metadata": {},
   "outputs": [
    {
     "name": "stdout",
     "output_type": "stream",
     "text": [
      "Pandas(Index=0, A=Timestamp('2016-01-01 00:00:00'), x=0.0, y=0.9778682376267916, C='Medium', D=107.37099839331876)\n",
      "Pandas(Index=1, A=Timestamp('2016-01-02 00:00:00'), x=1.0, y=0.4944504712551455, C='High', D=94.41636633323057)\n",
      "Pandas(Index=2, A=Timestamp('2016-01-03 00:00:00'), x=2.0, y=0.39712929217567705, C='High', D=108.57425423943263)\n",
      "Pandas(Index=3, A=Timestamp('2016-01-04 00:00:00'), x=3.0, y=0.5832437612213637, C='Low', D=96.36554365660571)\n",
      "Pandas(Index=4, A=Timestamp('2016-01-05 00:00:00'), x=4.0, y=0.5657034541903373, C='Low', D=115.34597298381597)\n"
     ]
    }
   ],
   "source": [
    "for row in df.itertuples():\n",
    "    print(row)"
   ]
  },
  {
   "cell_type": "code",
   "execution_count": 38,
   "metadata": {},
   "outputs": [
    {
     "data": {
      "text/html": [
       "<div>\n",
       "<style scoped>\n",
       "    .dataframe tbody tr th:only-of-type {\n",
       "        vertical-align: middle;\n",
       "    }\n",
       "\n",
       "    .dataframe tbody tr th {\n",
       "        vertical-align: top;\n",
       "    }\n",
       "\n",
       "    .dataframe thead th {\n",
       "        text-align: right;\n",
       "    }\n",
       "</style>\n",
       "<table border=\"1\" class=\"dataframe\">\n",
       "  <thead>\n",
       "    <tr style=\"text-align: right;\">\n",
       "      <th></th>\n",
       "      <th>dept</th>\n",
       "      <th>gender</th>\n",
       "      <th>age</th>\n",
       "      <th>salary</th>\n",
       "      <th>mean_sal_diff</th>\n",
       "    </tr>\n",
       "    <tr>\n",
       "      <th>emp_id</th>\n",
       "      <th></th>\n",
       "      <th></th>\n",
       "      <th></th>\n",
       "      <th></th>\n",
       "      <th></th>\n",
       "    </tr>\n",
       "  </thead>\n",
       "  <tbody>\n",
       "    <tr>\n",
       "      <th>0</th>\n",
       "      <td>Production</td>\n",
       "      <td>M</td>\n",
       "      <td>55</td>\n",
       "      <td>49785</td>\n",
       "      <td>-13333.000000</td>\n",
       "    </tr>\n",
       "    <tr>\n",
       "      <th>1</th>\n",
       "      <td>Sales</td>\n",
       "      <td>F</td>\n",
       "      <td>37</td>\n",
       "      <td>51012</td>\n",
       "      <td>-19384.363636</td>\n",
       "    </tr>\n",
       "    <tr>\n",
       "      <th>2</th>\n",
       "      <td>HR</td>\n",
       "      <td>M</td>\n",
       "      <td>35</td>\n",
       "      <td>64740</td>\n",
       "      <td>5221.619048</td>\n",
       "    </tr>\n",
       "    <tr>\n",
       "      <th>3</th>\n",
       "      <td>IT</td>\n",
       "      <td>M</td>\n",
       "      <td>35</td>\n",
       "      <td>24063</td>\n",
       "      <td>-24902.777778</td>\n",
       "    </tr>\n",
       "    <tr>\n",
       "      <th>4</th>\n",
       "      <td>HR</td>\n",
       "      <td>F</td>\n",
       "      <td>45</td>\n",
       "      <td>89524</td>\n",
       "      <td>30005.619048</td>\n",
       "    </tr>\n",
       "  </tbody>\n",
       "</table>\n",
       "</div>"
      ],
      "text/plain": [
       "              dept gender  age  salary  mean_sal_diff\n",
       "emp_id                                               \n",
       "0       Production      M   55   49785  -13333.000000\n",
       "1            Sales      F   37   51012  -19384.363636\n",
       "2               HR      M   35   64740    5221.619048\n",
       "3               IT      M   35   24063  -24902.777778\n",
       "4               HR      F   45   89524   30005.619048"
      ]
     },
     "execution_count": 38,
     "metadata": {},
     "output_type": "execute_result"
    }
   ],
   "source": [
    "df = pd.DataFrame({\"dept\": np.random.choice([\"IT\", \"HR\", \"Sales\", \"Production\"], size=50),\n",
    "                   \"gender\": np.random.choice([\"F\", \"M\"], size=50),\n",
    "                   \"age\": np.random.randint(22, 60, size=50),\n",
    "                   \"salary\": np.random.randint(20000, 90000, size=50)})\n",
    "df.index.name = \"emp_id\"\n",
    " \n",
    "# Calculate mean data of gender groups\n",
    "df.groupby(['dept', 'gender'])['salary'].agg([\"min\", \"max\", \"mean\", \"count\"])\n",
    "df.groupby(['dept', 'gender']).agg({'salary': 'mean', 'age': ['min', 'max']})\n",
    "df[\"age\"].groupby(df['dept']).describe()\n",
    "\n",
    "df['mean_sal_diff'] = df['salary'].groupby(\n",
    "    df['dept']).transform(lambda x: x - x.mean())\n",
    "df.head()"
   ]
  },
  {
   "cell_type": "code",
   "execution_count": 7,
   "metadata": {},
   "outputs": [
    {
     "data": {
      "text/plain": [
       "'0.14285714285714285'"
      ]
     },
     "execution_count": 7,
     "metadata": {},
     "output_type": "execute_result"
    }
   ],
   "source": [
    "s = 'Hello, Runoob'\n",
    "str(s)\n",
    "\n",
    "repr(s)\n",
    "\n",
    "repr(1/7)\n",
    "\n",
    "str(1/7)"
   ]
  }
 ],
 "metadata": {
  "kernelspec": {
   "display_name": "Python 3.10.8 ('QuantStudy-FzCNnXIW')",
   "language": "python",
   "name": "python3"
  },
  "language_info": {
   "codemirror_mode": {
    "name": "ipython",
    "version": 3
   },
   "file_extension": ".py",
   "mimetype": "text/x-python",
   "name": "python",
   "nbconvert_exporter": "python",
   "pygments_lexer": "ipython3",
   "version": "3.10.8 (main, Oct 21 2022, 22:22:30) [Clang 14.0.0 (clang-1400.0.29.202)]"
  },
  "orig_nbformat": 4,
  "vscode": {
   "interpreter": {
    "hash": "76dcfe8ba13664d2abb9bb7432de9389071caea9bd74c710371ec077e297455f"
   }
  }
 },
 "nbformat": 4,
 "nbformat_minor": 2
}
